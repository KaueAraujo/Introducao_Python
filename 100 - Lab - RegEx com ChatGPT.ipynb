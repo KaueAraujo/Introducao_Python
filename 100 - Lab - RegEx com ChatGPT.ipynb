{
 "cells": [
  {
   "cell_type": "markdown",
   "metadata": {},
   "source": [
    "<h3>Expressões Regulares"
   ]
  },
  {
   "cell_type": "code",
   "execution_count": 1,
   "metadata": {},
   "outputs": [],
   "source": [
    "import re"
   ]
  },
  {
   "cell_type": "code",
   "execution_count": 2,
   "metadata": {},
   "outputs": [],
   "source": [
    "texto = 'Meu e-mail é exemplo@gmail.com e você pode me encontrar em outro_email@yahoo.com.'"
   ]
  },
  {
   "cell_type": "code",
   "execution_count": 3,
   "metadata": {},
   "outputs": [
    {
     "name": "stdout",
     "output_type": "stream",
     "text": [
      "2\n"
     ]
    }
   ],
   "source": [
    "#Encontrar quantidade de arrobas no texto\n",
    "resultado = len(re.findall('@',texto))\n",
    "print(resultado)"
   ]
  },
  {
   "cell_type": "code",
   "execution_count": 4,
   "metadata": {},
   "outputs": [
    {
     "name": "stdout",
     "output_type": "stream",
     "text": [
      "['pode']\n"
     ]
    }
   ],
   "source": [
    "#Encontrar a palavra logo após de 'você' no texto\n",
    "resultado = re.findall(r'você (\\w+)',texto)\n",
    "print(resultado)"
   ]
  },
  {
   "cell_type": "code",
   "execution_count": 5,
   "metadata": {},
   "outputs": [],
   "source": [
    "#Expressão para retirar os emails do texto\n",
    "emails = re.findall(r'\\b[A-Za-z0-9._%+-]+@[A-Za-z0-9.-]+\\.[A-Z|a-z]{2,}\\b', texto)"
   ]
  },
  {
   "cell_type": "code",
   "execution_count": 6,
   "metadata": {},
   "outputs": [
    {
     "name": "stdout",
     "output_type": "stream",
     "text": [
      "['exemplo@gmail.com', 'outro_email@yahoo.com']\n"
     ]
    }
   ],
   "source": [
    "print(emails)"
   ]
  },
  {
   "cell_type": "code",
   "execution_count": 7,
   "metadata": {},
   "outputs": [],
   "source": [
    "text = \"O aluno estava incrivelmente perdido, mas encontrou a DSA e rapidamente começou a aprender.\""
   ]
  },
  {
   "cell_type": "code",
   "execution_count": 8,
   "metadata": {},
   "outputs": [
    {
     "name": "stdout",
     "output_type": "stream",
     "text": [
      "15-28: incrivelmente\n",
      "60-71: rapidamente\n"
     ]
    }
   ],
   "source": [
    "# Extraindo os advérbios da frase\n",
    "for m in re.finditer(r\"\\w+mente\\b\", text):\n",
    "    print('%02d-%02d: %s' % (m.start(), m.end(), m.group(0)))"
   ]
  },
  {
   "cell_type": "markdown",
   "metadata": {},
   "source": [
    "<h3>Usando o ChatGPT"
   ]
  },
  {
   "cell_type": "code",
   "execution_count": 9,
   "metadata": {},
   "outputs": [],
   "source": [
    "# Variável do tipo string\n",
    "musica = '''\n",
    "Todos os dias quando acordo\n",
    "Não tenho mais\n",
    "O tempo que passou\n",
    "Mas tenho muito tempo\n",
    "Temos todo o tempo do mundo\n",
    "Todos os dias\n",
    "Antes de dormir\n",
    "Lembro e esqueço\n",
    "Como foi o dia\n",
    "Sempre em frente\n",
    "Não temos tempo a perder\n",
    "Nosso suor sagrado\n",
    "É bem mais belo\n",
    "Que esse sangue amargo\n",
    "E tão sério\n",
    "E selvagem! Selvagem!\n",
    "Selvagem!\n",
    "Veja o sol\n",
    "Dessa manhã tão cinza\n",
    "A tempestade que chega\n",
    "É da cor dos teus olhos\n",
    "Castanhos\n",
    "Então me abraça forte\n",
    "E diz mais uma vez\n",
    "Que já estamos\n",
    "Distantes de tudo\n",
    "Temos nosso próprio tempo\n",
    "Temos nosso próprio tempo\n",
    "Temos nosso próprio tempo\n",
    "Não tenho medo do escuro\n",
    "Mas deixe as luzes\n",
    "Acesas agora\n",
    "O que foi escondido\n",
    "É o que se escondeu\n",
    "E o que foi prometido\n",
    "Ninguém prometeu\n",
    "Nem foi tempo perdido\n",
    "Somos tão jovens\n",
    "Tão jovens! Tão jovens!\n",
    "'''"
   ]
  },
  {
   "cell_type": "code",
   "execution_count": 11,
   "metadata": {},
   "outputs": [],
   "source": [
    "# 1- Crie um REGEX para contar quantas vezes o caracter \"a\" aparece em todo o texto da música.\n",
    "# 2- Crie um REGEX em Python para contar quantas vezes a palavra tempo aparece na música.\n",
    "# 3- Crie um REGEX em Python para extrair as palavras seguidas por exclamação.\n",
    "# 4- Crie um REGEX que extrai qualquer palavra cujo antecessor seja a palavra \"esse\" e o sucessor seja a palavra \"amargo\" em um texto.\n",
    "# 5- Crie um REGEX que retorne as palavras com acento, mas somente os caracteres na palavra que são anteriores ao caracter com acento.\n"
   ]
  },
  {
   "cell_type": "code",
   "execution_count": 12,
   "metadata": {},
   "outputs": [
    {
     "name": "stdout",
     "output_type": "stream",
     "text": [
      "O caractere 'a' aparece 39 vezes na música.\n"
     ]
    }
   ],
   "source": [
    "# 1- Crie um REGEX para contar quantas vezes o caracter \"a\" aparece em todo o texto da música.\n",
    "import re\n",
    "\n",
    "def contar_caracteres_a(string):\n",
    "    # Use a função findall() do módulo re para encontrar todas as ocorrências do caractere \"a\" na string\n",
    "    ocorrencias = re.findall('a', string)\n",
    "    # Retorne o número de ocorrências encontradas\n",
    "    return len(ocorrencias)\n",
    "\n",
    "quantidade_a = contar_caracteres_a(musica)\n",
    "print(\"O caractere 'a' aparece\", quantidade_a, \"vezes na música.\")"
   ]
  },
  {
   "cell_type": "code",
   "execution_count": 13,
   "metadata": {},
   "outputs": [
    {
     "name": "stdout",
     "output_type": "stream",
     "text": [
      "A palavra 'tempo' aparece 8 vezes na música.\n"
     ]
    }
   ],
   "source": [
    "# 2- Crie um REGEX em Python para contar quantas vezes a palavra tempo aparece na música.\n",
    "import re\n",
    "\n",
    "def contar_palavra_tempo(texto):\n",
    "    # Use a função findall() do módulo re para encontrar todas as ocorrências da palavra \"tempo\" na string\n",
    "    ocorrencias = re.findall(r'\\btempo\\b', texto, flags=re.IGNORECASE)\n",
    "    # Retorne o número de ocorrências encontradas\n",
    "    return len(ocorrencias)\n",
    "\n",
    "quantidade_tempo = contar_palavra_tempo(musica)\n",
    "print(\"A palavra 'tempo' aparece\", quantidade_tempo, \"vezes na música.\")"
   ]
  },
  {
   "cell_type": "code",
   "execution_count": 18,
   "metadata": {},
   "outputs": [
    {
     "name": "stdout",
     "output_type": "stream",
     "text": [
      "Palavras seguidas por exclamação: ['selvagem!', 'Selvagem!', 'Selvagem!', 'jovens!', 'jovens!']\n"
     ]
    }
   ],
   "source": [
    "# 3- Crie um REGEX em Python para extrair as palavras seguidas por exclamação.\n",
    "import re\n",
    "\n",
    "def extrair_palavras_exclamacao(texto):\n",
    "    # Use a função findall() do módulo re para encontrar todas as palavras seguidas por uma exclamação na string\n",
    "    palavras_exclamacao = re.findall(r'\\b\\w+!', texto)\n",
    "    # Retorne as palavras encontradas\n",
    "    return palavras_exclamacao\n",
    "\n",
    "palavras_exclamacao = extrair_palavras_exclamacao(musica)\n",
    "print(\"Palavras seguidas por exclamação:\", palavras_exclamacao)"
   ]
  },
  {
   "cell_type": "code",
   "execution_count": 19,
   "metadata": {},
   "outputs": [
    {
     "name": "stdout",
     "output_type": "stream",
     "text": [
      "Palavras entre 'esse' e 'amargo': ['sangue']\n"
     ]
    }
   ],
   "source": [
    "# 4- Crie um REGEX que extrai qualquer palavra cujo antecessor seja a palavra \"esse\" e o sucessor seja a palavra \"amargo\" em um texto.\n",
    "import re\n",
    "\n",
    "def extrair_palavras_ao_redor(texto):\n",
    "    # Use a função findall() do módulo re para encontrar todas as palavras que têm \"esse\" como antecessor e \"amargo\" como sucessor\n",
    "    palavras_ao_redor = re.findall(r'\\besse\\s+(\\w+)\\s+amargo\\b', texto)\n",
    "    # Retorne as palavras encontradas\n",
    "    return palavras_ao_redor\n",
    "\n",
    "palavras_encontradas = extrair_palavras_ao_redor(musica)\n",
    "print(\"Palavras entre 'esse' e 'amargo':\", palavras_encontradas)"
   ]
  },
  {
   "cell_type": "code",
   "execution_count": 25,
   "metadata": {},
   "outputs": [
    {
     "name": "stdout",
     "output_type": "stream",
     "text": [
      "Caracteres anteriores ao acento nas palavras: ['N', 'esque', 'N', 't', 's', 'manh', 't', 'Ent', 'abra', 'j', 'pr', 'pr', 'pr', 'N', 'Ningu', 't', 'T', 'T']\n"
     ]
    }
   ],
   "source": [
    "# 5- Crie um REGEX que retorne as palavras com acento, mas somente os caracteres na palavra que são anteriores ao caracter com acento.\n",
    "import re\n",
    "\n",
    "def extrair_caracteres_antecessores_acento(texto):\n",
    "    # Use a função findall() do módulo re para encontrar todas as palavras com acento e capturar os caracteres anteriores ao acento\n",
    "    caracteres_antecessores_acento = re.findall(r'(\\w+)[\\u00c0-\\u017f]', texto)\n",
    "    # Retorne os caracteres encontrados\n",
    "    return caracteres_antecessores_acento\n",
    "\n",
    "caracteres_encontrados = extrair_caracteres_antecessores_acento(musica)\n",
    "print(\"Caracteres anteriores ao acento nas palavras:\", caracteres_encontrados)"
   ]
  },
  {
   "cell_type": "code",
   "execution_count": null,
   "metadata": {},
   "outputs": [],
   "source": []
  }
 ],
 "metadata": {
  "kernelspec": {
   "display_name": "kernel-introducao-python",
   "language": "python",
   "name": "python3"
  },
  "language_info": {
   "codemirror_mode": {
    "name": "ipython",
    "version": 3
   },
   "file_extension": ".py",
   "mimetype": "text/x-python",
   "name": "python",
   "nbconvert_exporter": "python",
   "pygments_lexer": "ipython3",
   "version": "3.11.4"
  }
 },
 "nbformat": 4,
 "nbformat_minor": 2
}
