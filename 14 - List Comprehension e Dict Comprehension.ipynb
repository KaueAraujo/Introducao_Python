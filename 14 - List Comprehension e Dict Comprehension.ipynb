{
 "cells": [
  {
   "cell_type": "markdown",
   "metadata": {},
   "source": [
    "<h3>List Comprehension</h3>\n",
    "\n",
    "[expressão for item in iterable if condição == True]"
   ]
  },
  {
   "cell_type": "code",
   "execution_count": 2,
   "metadata": {},
   "outputs": [
    {
     "data": {
      "text/plain": [
       "[0, 1, 2, 3, 4, 5, 6, 7, 8, 9]"
      ]
     },
     "execution_count": 2,
     "metadata": {},
     "output_type": "execute_result"
    }
   ],
   "source": [
    "#List comprehension que imprime os números até 10\n",
    "[x for x in range(10)]"
   ]
  },
  {
   "cell_type": "code",
   "execution_count": 4,
   "metadata": {},
   "outputs": [
    {
     "name": "stdout",
     "output_type": "stream",
     "text": [
      "[0, 1, 2, 3, 4, 5, 6, 7, 8, 9]\n"
     ]
    }
   ],
   "source": [
    "lista_numeros = [x for x in range(10)]\n",
    "print(lista_numeros)"
   ]
  },
  {
   "cell_type": "code",
   "execution_count": 6,
   "metadata": {},
   "outputs": [
    {
     "name": "stdout",
     "output_type": "stream",
     "text": [
      "[0, 1, 2, 3, 4]\n"
     ]
    }
   ],
   "source": [
    "lista_numeros = [x for x in range(10) if x<5]\n",
    "print(lista_numeros)"
   ]
  },
  {
   "cell_type": "code",
   "execution_count": 9,
   "metadata": {},
   "outputs": [],
   "source": [
    "lista_frutas = ['banana', 'abacate', 'melancia', 'cereja', 'manga']\n",
    "\n",
    "nova_lista = []"
   ]
  },
  {
   "cell_type": "code",
   "execution_count": 10,
   "metadata": {},
   "outputs": [
    {
     "name": "stdout",
     "output_type": "stream",
     "text": [
      "['melancia', 'manga']\n"
     ]
    }
   ],
   "source": [
    "for x in lista_frutas:\n",
    "    if 'm' in x:\n",
    "        nova_lista.append(x)\n",
    "\n",
    "print(nova_lista)"
   ]
  },
  {
   "cell_type": "code",
   "execution_count": 12,
   "metadata": {},
   "outputs": [
    {
     "data": {
      "text/plain": [
       "['melancia', 'manga']"
      ]
     },
     "execution_count": 12,
     "metadata": {},
     "output_type": "execute_result"
    }
   ],
   "source": [
    "nova_lista = [x for x in lista_frutas if 'm' in x]\n",
    "nova_lista"
   ]
  },
  {
   "cell_type": "markdown",
   "metadata": {},
   "source": [
    "<h3>Dict Comprehension"
   ]
  },
  {
   "cell_type": "code",
   "execution_count": 14,
   "metadata": {},
   "outputs": [
    {
     "name": "stdout",
     "output_type": "stream",
     "text": [
      "{'Bob': 68, 'Michel': 84, 'Zico': 57, 'Ana': 93}\n"
     ]
    }
   ],
   "source": [
    "dict_alunos = {'Bob':68, 'Michel':84, 'Zico':57, 'Ana':93}\n",
    "\n",
    "dict_alunos_status = {k:v for (k,v) in dict_alunos.items()}\n",
    "print(dict_alunos_status)"
   ]
  },
  {
   "cell_type": "code",
   "execution_count": 15,
   "metadata": {},
   "outputs": [
    {
     "name": "stdout",
     "output_type": "stream",
     "text": [
      "{'Bob': 'Reprovado', 'Michel': 'Aprovado', 'Zico': 'Reprovado', 'Ana': 'Aprovado'}\n"
     ]
    }
   ],
   "source": [
    "dict_alunos = {'Bob':68, 'Michel':84, 'Zico':57, 'Ana':93}\n",
    "\n",
    "dict_alunos_status = {k:('Aprovado' if v > 70 else 'Reprovado') for (k,v) in dict_alunos.items()}\n",
    "print(dict_alunos_status)"
   ]
  },
  {
   "cell_type": "code",
   "execution_count": null,
   "metadata": {},
   "outputs": [],
   "source": []
  }
 ],
 "metadata": {
  "kernelspec": {
   "display_name": "kernel-introducao-python",
   "language": "python",
   "name": "python3"
  },
  "language_info": {
   "codemirror_mode": {
    "name": "ipython",
    "version": 3
   },
   "file_extension": ".py",
   "mimetype": "text/x-python",
   "name": "python",
   "nbconvert_exporter": "python",
   "pygments_lexer": "ipython3",
   "version": "3.11.4"
  }
 },
 "nbformat": 4,
 "nbformat_minor": 2
}
