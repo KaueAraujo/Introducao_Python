{
 "cells": [
  {
   "cell_type": "markdown",
   "metadata": {},
   "source": [
    "<h3>Loop For"
   ]
  },
  {
   "cell_type": "code",
   "execution_count": 27,
   "metadata": {},
   "outputs": [
    {
     "name": "stdout",
     "output_type": "stream",
     "text": [
      "2\n",
      "3\n",
      "4\n"
     ]
    }
   ],
   "source": [
    "tp = (2, 3, 4)\n",
    "for i in tp:\n",
    "    print(i)"
   ]
  },
  {
   "cell_type": "code",
   "execution_count": 28,
   "metadata": {},
   "outputs": [
    {
     "name": "stdout",
     "output_type": "stream",
     "text": [
      "Data\n",
      "Science\n",
      "Academy\n"
     ]
    }
   ],
   "source": [
    "lista_strings = ['Data','Science','Academy']\n",
    "for i in lista_strings:\n",
    "    print(i)"
   ]
  },
  {
   "cell_type": "code",
   "execution_count": 29,
   "metadata": {},
   "outputs": [
    {
     "name": "stdout",
     "output_type": "stream",
     "text": [
      "0\n",
      "1\n",
      "2\n",
      "3\n",
      "4\n"
     ]
    }
   ],
   "source": [
    "for contador in range(0, 5):\n",
    "    print(contador)"
   ]
  },
  {
   "cell_type": "code",
   "execution_count": 30,
   "metadata": {},
   "outputs": [
    {
     "name": "stdout",
     "output_type": "stream",
     "text": [
      "2\n",
      "4\n",
      "6\n",
      "8\n",
      "10\n"
     ]
    }
   ],
   "source": [
    "for num in range(1,11):\n",
    "    if num % 2 == 0:\n",
    "        print(num)"
   ]
  },
  {
   "cell_type": "code",
   "execution_count": 31,
   "metadata": {},
   "outputs": [
    {
     "name": "stdout",
     "output_type": "stream",
     "text": [
      "0\n",
      "2\n",
      "4\n",
      "6\n",
      "8\n",
      "10\n",
      "12\n",
      "14\n",
      "16\n",
      "18\n",
      "20\n",
      "22\n",
      "24\n",
      "26\n",
      "28\n",
      "30\n",
      "32\n",
      "34\n",
      "36\n",
      "38\n",
      "40\n",
      "42\n",
      "44\n",
      "46\n",
      "48\n",
      "50\n",
      "52\n",
      "54\n",
      "56\n",
      "58\n",
      "60\n",
      "62\n",
      "64\n",
      "66\n",
      "68\n",
      "70\n",
      "72\n",
      "74\n",
      "76\n",
      "78\n",
      "80\n",
      "82\n",
      "84\n",
      "86\n",
      "88\n",
      "90\n",
      "92\n",
      "94\n",
      "96\n",
      "98\n",
      "100\n"
     ]
    }
   ],
   "source": [
    "for i in range(0,101,2):\n",
    "    print(i)"
   ]
  },
  {
   "cell_type": "code",
   "execution_count": 32,
   "metadata": {},
   "outputs": [
    {
     "name": "stdout",
     "output_type": "stream",
     "text": [
      "P\n",
      "y\n",
      "t\n",
      "h\n",
      "o\n",
      "n\n",
      " \n",
      "é\n",
      " \n",
      "u\n",
      "m\n",
      "a\n",
      " \n",
      "l\n",
      "i\n",
      "n\n",
      "g\n",
      "u\n",
      "a\n",
      "g\n",
      "e\n",
      "m\n",
      " \n",
      "d\n",
      "i\n",
      "v\n",
      "e\n",
      "r\n",
      "t\n",
      "i\n",
      "d\n",
      "a\n"
     ]
    }
   ],
   "source": [
    "for caracter in 'Python é uma linguagem divertida':\n",
    "    print(caracter)"
   ]
  },
  {
   "cell_type": "markdown",
   "metadata": {},
   "source": [
    "<h3>Loop For Aninhado"
   ]
  },
  {
   "cell_type": "code",
   "execution_count": 33,
   "metadata": {},
   "outputs": [
    {
     "name": "stdout",
     "output_type": "stream",
     "text": [
      "0\n",
      "0\n",
      "0\n",
      "-----\n",
      "1\n",
      "2\n",
      "3\n",
      "-----\n",
      "2\n",
      "4\n",
      "6\n",
      "-----\n",
      "3\n",
      "6\n",
      "9\n",
      "-----\n",
      "4\n",
      "8\n",
      "12\n",
      "-----\n"
     ]
    }
   ],
   "source": [
    "lista1 = [0,1,2,3,4]\n",
    "lista2 = [1,2,3]\n",
    "\n",
    "#Loop externo\n",
    "for elemento_lista1 in lista1:\n",
    "\n",
    "    #Loop interno\n",
    "    for elemento_lista2 in lista2:\n",
    "        print(elemento_lista1*elemento_lista2)\n",
    "    print('-----')"
   ]
  },
  {
   "cell_type": "code",
   "execution_count": 34,
   "metadata": {},
   "outputs": [
    {
     "name": "stdout",
     "output_type": "stream",
     "text": [
      "O número 47 foi encontrado nas duas listas\n"
     ]
    }
   ],
   "source": [
    "#O número 47 aparece nas duas listas?\n",
    "lista1 = [10,16,24,39,47]\n",
    "lista2 = [32,89,47,76,12]\n",
    "\n",
    "#Loop externo\n",
    "for elemento_lista1 in lista1:\n",
    "    #Loop interno\n",
    "    for elemento_lista2 in lista2:\n",
    "        #Condicional\n",
    "        if elemento_lista1==47 and elemento_lista2==47:\n",
    "            print(\"O número 47 foi encontrado nas duas listas\")"
   ]
  },
  {
   "cell_type": "code",
   "execution_count": 35,
   "metadata": {},
   "outputs": [
    {
     "name": "stdout",
     "output_type": "stream",
     "text": [
      "A soma dos números pares das duas listas é igual a  170\n"
     ]
    }
   ],
   "source": [
    "#Some os números pares da primeira lista com os números pares da segunda lista\n",
    "lista1 = [10,16,24,39,47]\n",
    "lista2 = [32,89,47,76,12]\n",
    "soma = 0\n",
    "\n",
    "#Loop externo\n",
    "for lista in [lista1,lista2]:\n",
    "    #Loop interno\n",
    "    for num in lista:\n",
    "        #Condicional\n",
    "        if num%2==0:\n",
    "            soma+=num\n",
    "print(\"A soma dos números pares das duas listas é igual a \", soma)"
   ]
  },
  {
   "cell_type": "code",
   "execution_count": 36,
   "metadata": {},
   "outputs": [
    {
     "name": "stdout",
     "output_type": "stream",
     "text": [
      "A soma dos números pares das duas listas é igual a  170\n"
     ]
    }
   ],
   "source": [
    "#Concatenando as listas\n",
    "#Some os números pares da primeira lista com os números pares da segunda lista\n",
    "lista1 = [10,16,24,39,47]\n",
    "lista2 = [32,89,47,76,12]\n",
    "soma = 0\n",
    "\n",
    "#Loop externo\n",
    "for num in lista1+lista2:\n",
    "    #Condicional\n",
    "    if num%2==0:\n",
    "        soma+=num\n",
    "print(\"A soma dos números pares das duas listas é igual a \", soma)"
   ]
  },
  {
   "cell_type": "code",
   "execution_count": 37,
   "metadata": {},
   "outputs": [
    {
     "name": "stdout",
     "output_type": "stream",
     "text": [
      "Maior número:  215\n"
     ]
    }
   ],
   "source": [
    "#Loop em lista de listas (matriz) para encontrar o maior número\n",
    "matriz = [[42,23,34],[100,215,114],[10.1,98.7,12.3]]\n",
    "maior_numero=0\n",
    "\n",
    "#Loop externo\n",
    "for linha in matriz:\n",
    "    #Loop interno\n",
    "    for num in linha:\n",
    "        #Condicional\n",
    "        if num>maior_numero:\n",
    "            maior_numero=num\n",
    "print(\"Maior número: \", maior_numero)"
   ]
  },
  {
   "cell_type": "code",
   "execution_count": 38,
   "metadata": {},
   "outputs": [
    {
     "name": "stdout",
     "output_type": "stream",
     "text": [
      "k1\n",
      "k2\n",
      "k3\n"
     ]
    }
   ],
   "source": [
    "#Listando chaves de um dicionário\n",
    "dicionario = {'k1':'Python','k2':'R','k3':'Scala'}\n",
    "\n",
    "for item in dicionario:\n",
    "    print(item)"
   ]
  },
  {
   "cell_type": "code",
   "execution_count": 39,
   "metadata": {},
   "outputs": [
    {
     "name": "stdout",
     "output_type": "stream",
     "text": [
      "k1 Python\n",
      "k2 R\n",
      "k3 Scala\n"
     ]
    }
   ],
   "source": [
    "for item, valor in dicionario.items():\n",
    "    print(item,valor)"
   ]
  },
  {
   "cell_type": "markdown",
   "metadata": {},
   "source": [
    "<h3>Loop While"
   ]
  },
  {
   "cell_type": "code",
   "execution_count": 40,
   "metadata": {},
   "outputs": [
    {
     "name": "stdout",
     "output_type": "stream",
     "text": [
      "0\n",
      "1\n",
      "2\n",
      "3\n",
      "4\n",
      "5\n",
      "6\n",
      "7\n",
      "8\n",
      "9\n"
     ]
    }
   ],
   "source": [
    "valor=0\n",
    "while valor<10:\n",
    "    print(valor)\n",
    "    valor+=1"
   ]
  },
  {
   "cell_type": "code",
   "execution_count": 41,
   "metadata": {},
   "outputs": [],
   "source": [
    "valor=11\n",
    "while valor<10:\n",
    "    print(valor)\n",
    "    valor+=1"
   ]
  },
  {
   "cell_type": "code",
   "execution_count": 42,
   "metadata": {},
   "outputs": [
    {
     "name": "stdout",
     "output_type": "stream",
     "text": [
      "O valor nessa iteração é:  0\n",
      "Valor menor que 10, somando 1 no valor.\n",
      "O valor nessa iteração é:  1\n",
      "Valor menor que 10, somando 1 no valor.\n",
      "O valor nessa iteração é:  2\n",
      "Valor menor que 10, somando 1 no valor.\n",
      "O valor nessa iteração é:  3\n",
      "Valor menor que 10, somando 1 no valor.\n",
      "O valor nessa iteração é:  4\n",
      "Valor menor que 10, somando 1 no valor.\n",
      "O valor nessa iteração é:  5\n",
      "Valor menor que 10, somando 1 no valor.\n",
      "O valor nessa iteração é:  6\n",
      "Valor menor que 10, somando 1 no valor.\n",
      "O valor nessa iteração é:  7\n",
      "Valor menor que 10, somando 1 no valor.\n",
      "O valor nessa iteração é:  8\n",
      "Valor menor que 10, somando 1 no valor.\n",
      "O valor nessa iteração é:  9\n",
      "Valor menor que 10, somando 1 no valor.\n",
      "Loop concluído!\n",
      "10\n"
     ]
    }
   ],
   "source": [
    "#É possível usar clausula else para encerrar o loop\n",
    "valor=0\n",
    "while valor<10:\n",
    "    print('O valor nessa iteração é: ',valor)\n",
    "    print('Valor menor que 10, somando 1 no valor.')\n",
    "    valor+=1\n",
    "else:\n",
    "    print('Loop concluído!')\n",
    "print(valor)"
   ]
  },
  {
   "cell_type": "markdown",
   "metadata": {},
   "source": [
    "<h3>Pass, Break, Continue"
   ]
  },
  {
   "cell_type": "code",
   "execution_count": 43,
   "metadata": {},
   "outputs": [
    {
     "name": "stdout",
     "output_type": "stream",
     "text": [
      "0\n",
      "1\n",
      "2\n",
      "3\n"
     ]
    }
   ],
   "source": [
    "#Se encontrarmos o valor 4, paramos o loop\n",
    "valor=0\n",
    "while valor<10:\n",
    "    if valor == 4:\n",
    "        break\n",
    "    else:\n",
    "        pass\n",
    "    print(valor)\n",
    "    valor+=1"
   ]
  },
  {
   "cell_type": "code",
   "execution_count": 44,
   "metadata": {},
   "outputs": [
    {
     "name": "stdout",
     "output_type": "stream",
     "text": [
      "P\n",
      "y\n",
      "t\n",
      "h\n",
      "o\n",
      "n\n",
      " \n",
      "é\n",
      " \n",
      " \n",
      "i\n",
      "n\n",
      "c\n",
      "r\n",
      "í\n",
      "v\n",
      "e\n",
      "l\n"
     ]
    }
   ],
   "source": [
    "#Desconsideramos a letra z\n",
    "for letra in 'Python é zzz incrível':\n",
    "    if letra =='z':\n",
    "        continue\n",
    "    print(letra)"
   ]
  },
  {
   "cell_type": "markdown",
   "metadata": {},
   "source": [
    "<h3>While e For juntos"
   ]
  },
  {
   "cell_type": "code",
   "execution_count": 45,
   "metadata": {},
   "outputs": [
    {
     "name": "stdout",
     "output_type": "stream",
     "text": [
      "[2, 3, 5, 7, 11, 13, 17, 19, 23, 29]\n",
      "CPU times: total: 15.6 ms\n",
      "Wall time: 997 µs\n"
     ]
    }
   ],
   "source": [
    "%%time\n",
    "#Vamos encontrar os números primos entre 2 e 30 usando While e For juntos\n",
    "primos = []\n",
    "\n",
    "for num in range(2,31):\n",
    "    #variável de controle\n",
    "    eh_primo=True\n",
    "\n",
    "    #loop para verificar se é primo\n",
    "    i=2\n",
    "    while i <=num//2:\n",
    "        if num%i==0:\n",
    "            eh_primo=False\n",
    "            break\n",
    "        i+=1\n",
    "    #Adicionando num na lista\n",
    "    if eh_primo:\n",
    "        primos.append(num)\n",
    "print(primos)"
   ]
  },
  {
   "cell_type": "code",
   "execution_count": 46,
   "metadata": {},
   "outputs": [
    {
     "name": "stdout",
     "output_type": "stream",
     "text": [
      "2 é um número primo.\n",
      "3 é um número primo.\n",
      "5 é um número primo.\n",
      "7 é um número primo.\n",
      "11 é um número primo.\n",
      "13 é um número primo.\n",
      "17 é um número primo.\n",
      "19 é um número primo.\n",
      "23 é um número primo.\n",
      "29 é um número primo.\n",
      "CPU times: total: 0 ns\n",
      "Wall time: 997 µs\n"
     ]
    }
   ],
   "source": [
    "%%time\n",
    "#Vamos encontrar os números primos entre 2 e 30 usando While e For juntos\n",
    "primos = []\n",
    "\n",
    "for num in range(2,31):\n",
    "    #contador\n",
    "    valor=0\n",
    "    #variavel de controle\n",
    "    i=2\n",
    "    #loop para verificar se é primo\n",
    "    while i < num :\n",
    "        if num%i==0:\n",
    "            valor=1\n",
    "            i+=1\n",
    "        else:\n",
    "            i+=1\n",
    "    #Adicionando num na lista\n",
    "    if valor==0:\n",
    "        print(str(num) + ' é um número primo.')\n",
    "        valor=0\n",
    "    else:\n",
    "        valor=0"
   ]
  },
  {
   "cell_type": "code",
   "execution_count": null,
   "metadata": {},
   "outputs": [],
   "source": []
  }
 ],
 "metadata": {
  "kernelspec": {
   "display_name": "kernel-introducao-python",
   "language": "python",
   "name": "python3"
  },
  "language_info": {
   "codemirror_mode": {
    "name": "ipython",
    "version": 3
   },
   "file_extension": ".py",
   "mimetype": "text/x-python",
   "name": "python",
   "nbconvert_exporter": "python",
   "pygments_lexer": "ipython3",
   "version": "3.11.4"
  }
 },
 "nbformat": 4,
 "nbformat_minor": 2
}
