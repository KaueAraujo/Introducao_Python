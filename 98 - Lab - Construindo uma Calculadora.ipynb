{
 "cells": [
  {
   "cell_type": "code",
   "execution_count": 2,
   "metadata": {},
   "outputs": [],
   "source": [
    "def calcSoma(num1, num2):\n",
    "    result = num1+num2\n",
    "    print(str(num1)+' + '+str(num2)+' = '+str(result))\n",
    "\n",
    "def calcSub(num1, num2):\n",
    "    result = num1-num2\n",
    "    print(str(num1)+' - '+str(num2)+' = '+str(result))\n",
    "\n",
    "def calcMult(num1, num2):\n",
    "    result = num1*num2\n",
    "    print(str(num1)+' * '+str(num2)+' = '+str(result))\n",
    "\n",
    "def calcDiv(num1, num2):\n",
    "    result = num1/num2\n",
    "    if num1%num2==0:\n",
    "        print('Os números são divisíveis!')\n",
    "        print(str(num1)+' / '+str(num2)+' = '+str(result))\n",
    "    else:\n",
    "        print('O resultado não é uma divisão exata. Podemos dizer que o resultado é:')\n",
    "        print(str(num1)+' / '+str(num2)+' = '+str(result))\n",
    "        quociente = num1//num2\n",
    "        resto = num1%num2\n",
    "        print('Ou ainda que:')\n",
    "        print(str(num1)+' / '+str(num2)+' é uma divisão com quociente '+str(quociente)+' e resto '+str(resto))"
   ]
  },
  {
   "cell_type": "code",
   "execution_count": 13,
   "metadata": {},
   "outputs": [
    {
     "name": "stdout",
     "output_type": "stream",
     "text": [
      "######################## Calculadora Python ########################\n",
      "Selecione a operação desejada:\n",
      "\n",
      "1 - Soma\n",
      "2 - Subtração\n",
      "3 - Multiplicação\n",
      "4 - Divisão\n",
      "\n",
      "Opcao inválida. Tente novamente.\n",
      "\n",
      "Opcao inválida. Tente novamente.\n",
      "\n",
      "Opcao inválida. Tente novamente.\n",
      "\n",
      "Opcao inválida. Tente novamente.\n",
      "\n",
      "Operação selecionada: Divisão\n",
      "O resultado não é uma divisão exata. Podemos dizer que o resultado é:\n",
      "98.0 / 5.0 = 19.6\n",
      "Ou ainda que:\n",
      "98.0 / 5.0 é uma divisão com quociente 19.0 e resto 3.0\n"
     ]
    }
   ],
   "source": [
    "print('######################## Calculadora Python ########################')\n",
    "print('Selecione a operação desejada:')\n",
    "print('')\n",
    "print('1 - Soma')\n",
    "print('2 - Subtração')\n",
    "print('3 - Multiplicação')\n",
    "print('4 - Divisão')\n",
    "print('')\n",
    "opcao = int(input('Digite a sua opção (1/2/3/4):'))\n",
    "while opcao not in [1,2,3,4]:\n",
    "    print('Opcao inválida. Tente novamente.')\n",
    "    print('')\n",
    "    opcao = int(input('Digite a sua opção (1/2/3/4):'))\n",
    "prim_num = float(input('Digite o primeiro número:'))\n",
    "seg_num = float(input('Digite o segundo número:'))\n",
    "\n",
    "if opcao==1:\n",
    "    print('Operação selecionada: Soma')\n",
    "    calcSoma(prim_num, seg_num)\n",
    "elif opcao==2:\n",
    "    print('Operação selecionada: Subtração')\n",
    "    calcSub(prim_num, seg_num)\n",
    "elif opcao==3:\n",
    "    print('Operação selecionada: Multiplicação')\n",
    "    calcMult(prim_num, seg_num)\n",
    "else:\n",
    "    print('Operação selecionada: Divisão')\n",
    "    calcDiv(prim_num, seg_num)"
   ]
  },
  {
   "cell_type": "code",
   "execution_count": null,
   "metadata": {},
   "outputs": [],
   "source": []
  }
 ],
 "metadata": {
  "kernelspec": {
   "display_name": "kernel-introducao-python",
   "language": "python",
   "name": "python3"
  },
  "language_info": {
   "codemirror_mode": {
    "name": "ipython",
    "version": 3
   },
   "file_extension": ".py",
   "mimetype": "text/x-python",
   "name": "python",
   "nbconvert_exporter": "python",
   "pygments_lexer": "ipython3",
   "version": "3.11.4"
  }
 },
 "nbformat": 4,
 "nbformat_minor": 2
}
