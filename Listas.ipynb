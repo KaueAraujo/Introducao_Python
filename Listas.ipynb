{
 "cells": [
  {
   "cell_type": "markdown",
   "metadata": {},
   "source": [
    "<h3>Trabalhando com Listas"
   ]
  },
  {
   "cell_type": "code",
   "execution_count": 2,
   "metadata": {},
   "outputs": [
    {
     "name": "stdout",
     "output_type": "stream",
     "text": [
      "<class 'list'>\n",
      "['arroz, frango, tomate, leite']\n",
      "1\n"
     ]
    }
   ],
   "source": [
    "#Criando uma lista, utiliza-se [] para criar uma lista\n",
    "lista_1 = ['arroz, frango, tomate, leite']\n",
    "print(type(lista_1))\n",
    "print(lista_1)\n",
    "print(len(lista_1))"
   ]
  },
  {
   "cell_type": "code",
   "execution_count": 3,
   "metadata": {},
   "outputs": [
    {
     "name": "stdout",
     "output_type": "stream",
     "text": [
      "<class 'list'>\n",
      "['arroz', 'frango', 'tomate', 'leite']\n",
      "4\n"
     ]
    }
   ],
   "source": [
    "#Criando uma lista\n",
    "lista_2 = ['arroz', 'frango', 'tomate', 'leite']\n",
    "print(type(lista_2))\n",
    "print(lista_2)\n",
    "print(len(lista_2))"
   ]
  },
  {
   "cell_type": "code",
   "execution_count": 4,
   "metadata": {},
   "outputs": [
    {
     "name": "stdout",
     "output_type": "stream",
     "text": [
      "<class 'list'>\n",
      "[23, 100, 'Cientista de Dados']\n",
      "3\n"
     ]
    }
   ],
   "source": [
    "#Criando uma lista\n",
    "lista_3 = [23, 100, 'Cientista de Dados']\n",
    "print(type(lista_3))\n",
    "print(lista_3)\n",
    "print(len(lista_3))"
   ]
  },
  {
   "cell_type": "code",
   "execution_count": 6,
   "metadata": {},
   "outputs": [
    {
     "name": "stdout",
     "output_type": "stream",
     "text": [
      "23 100 Cientista de Dados\n"
     ]
    }
   ],
   "source": [
    "#Listas são indexáveis\n",
    "item1 = lista_3[0]\n",
    "item2 = lista_3[1]\n",
    "item3 = lista_3[2]\n",
    "\n",
    "print(item1, item2, item3)"
   ]
  },
  {
   "cell_type": "markdown",
   "metadata": {},
   "source": [
    "<h3>Atualizando um item da Lista"
   ]
  },
  {
   "cell_type": "code",
   "execution_count": 7,
   "metadata": {},
   "outputs": [
    {
     "name": "stdout",
     "output_type": "stream",
     "text": [
      "['arroz', 'frango', 'tomate', 'leite']\n",
      "tomate\n",
      "['arroz', 'frango', 'chocolate', 'leite']\n"
     ]
    }
   ],
   "source": [
    "print(lista_2)\n",
    "print(lista_2[2])\n",
    "#Listas são mutáveis\n",
    "lista_2[2] = 'chocolate'\n",
    "print(lista_2)"
   ]
  },
  {
   "cell_type": "markdown",
   "metadata": {},
   "source": [
    "<h3>Deletando um item da Lista"
   ]
  },
  {
   "cell_type": "code",
   "execution_count": 8,
   "metadata": {},
   "outputs": [
    {
     "ename": "IndexError",
     "evalue": "list assignment index out of range",
     "output_type": "error",
     "traceback": [
      "\u001b[1;31m---------------------------------------------------------------------------\u001b[0m",
      "\u001b[1;31mIndexError\u001b[0m                                Traceback (most recent call last)",
      "Cell \u001b[1;32mIn[8], line 2\u001b[0m\n\u001b[0;32m      1\u001b[0m \u001b[38;5;66;03m#Não é possível deletar um elemento que não esteja dentro dos indexes da lista\u001b[39;00m\n\u001b[1;32m----> 2\u001b[0m \u001b[38;5;28;01mdel\u001b[39;00m \u001b[43mlista_2\u001b[49m\u001b[43m[\u001b[49m\u001b[38;5;241;43m4\u001b[39;49m\u001b[43m]\u001b[49m\n",
      "\u001b[1;31mIndexError\u001b[0m: list assignment index out of range"
     ]
    }
   ],
   "source": [
    "#Não é possível deletar um elemento que não esteja dentro dos indexes da lista\n",
    "del lista_2[4]"
   ]
  },
  {
   "cell_type": "code",
   "execution_count": 9,
   "metadata": {},
   "outputs": [
    {
     "name": "stdout",
     "output_type": "stream",
     "text": [
      "['arroz', 'frango', 'chocolate']\n"
     ]
    }
   ],
   "source": [
    "del lista_2[3]\n",
    "print(lista_2)"
   ]
  },
  {
   "cell_type": "markdown",
   "metadata": {},
   "source": [
    "<h3>Listas de Listas (listas aninhadas)"
   ]
  },
  {
   "cell_type": "code",
   "execution_count": 10,
   "metadata": {},
   "outputs": [
    {
     "name": "stdout",
     "output_type": "stream",
     "text": [
      "[[1, 2, 3], [10, 15, 14], [10.1, 8.7, 2.3]]\n"
     ]
    }
   ],
   "source": [
    "#Criando uma lista de listas\n",
    "listas = [[1, 2, 3],[10, 15, 14],[10.1, 8.7, 2.3]]\n",
    "print(listas)"
   ]
  },
  {
   "cell_type": "code",
   "execution_count": 11,
   "metadata": {},
   "outputs": [
    {
     "name": "stdout",
     "output_type": "stream",
     "text": [
      "[1, 2, 3]\n"
     ]
    }
   ],
   "source": [
    "#Atribuindo um item da lista a uma variável\n",
    "a = listas[0]\n",
    "print(a)"
   ]
  },
  {
   "cell_type": "code",
   "execution_count": 12,
   "metadata": {},
   "outputs": [
    {
     "name": "stdout",
     "output_type": "stream",
     "text": [
      "1\n"
     ]
    }
   ],
   "source": [
    "b = a[0]\n",
    "print(b)"
   ]
  },
  {
   "cell_type": "code",
   "execution_count": 13,
   "metadata": {},
   "outputs": [
    {
     "name": "stdout",
     "output_type": "stream",
     "text": [
      "10\n",
      "14\n"
     ]
    }
   ],
   "source": [
    "list1 = listas[1]\n",
    "valor_1_0 = list1[0]\n",
    "print(valor_1_0)\n",
    "valor_1_2 = list1[2]\n",
    "print(valor_1_2)\n"
   ]
  },
  {
   "cell_type": "code",
   "execution_count": 14,
   "metadata": {},
   "outputs": [
    {
     "name": "stdout",
     "output_type": "stream",
     "text": [
      "10.1\n"
     ]
    }
   ],
   "source": [
    "list2 = listas[2]\n",
    "valor_2_0 = list2[0]\n",
    "print(valor_2_0)"
   ]
  },
  {
   "cell_type": "markdown",
   "metadata": {},
   "source": [
    "Listas Aninhadas são uma alternativa à matrizes e dataframes, por exemplo.\n",
    "<br>Matrizes são do pacote numpy, enquanto DataFrames são do pacote pandas\n",
    "<br>Trabalhar com listas aninhadas não necessita o import de pacotes extras (como o numpy e o pandas), mas em situações de maior complexidade, pode ficar dificil manipular o acesso a elementos específicos dentro da estrutura de listas aninhadas."
   ]
  },
  {
   "cell_type": "markdown",
   "metadata": {},
   "source": [
    "<h3>Operações com Listas"
   ]
  },
  {
   "cell_type": "code",
   "execution_count": 15,
   "metadata": {},
   "outputs": [
    {
     "data": {
      "text/plain": [
       "[[1, 2, 3], [10, 15, 14], [10.1, 8.7, 2.3]]"
      ]
     },
     "execution_count": 15,
     "metadata": {},
     "output_type": "execute_result"
    }
   ],
   "source": [
    "listas"
   ]
  },
  {
   "cell_type": "code",
   "execution_count": 16,
   "metadata": {},
   "outputs": [
    {
     "name": "stdout",
     "output_type": "stream",
     "text": [
      "1\n",
      "14\n",
      "30\n"
     ]
    }
   ],
   "source": [
    "a = listas[0][0]\n",
    "print(a)\n",
    "\n",
    "b = listas[1][2]\n",
    "print(b)\n",
    "\n",
    "c = listas[0][2]*10\n",
    "print(c)"
   ]
  },
  {
   "cell_type": "markdown",
   "metadata": {},
   "source": [
    "<h3>Concatenando Listas"
   ]
  },
  {
   "cell_type": "code",
   "execution_count": 17,
   "metadata": {},
   "outputs": [
    {
     "name": "stdout",
     "output_type": "stream",
     "text": [
      "[34, 32, 56]\n",
      "[21, 90, 51]\n"
     ]
    }
   ],
   "source": [
    "lista_s1 = [34, 32, 56]\n",
    "lista_s2 = [21, 90, 51]\n",
    "\n",
    "print(lista_s1)\n",
    "print(lista_s2)"
   ]
  },
  {
   "cell_type": "code",
   "execution_count": 19,
   "metadata": {},
   "outputs": [
    {
     "name": "stdout",
     "output_type": "stream",
     "text": [
      "[34, 32, 56, 21, 90, 51]\n"
     ]
    }
   ],
   "source": [
    "lista_total = lista_s1 + lista_s2\n",
    "print(lista_total)"
   ]
  },
  {
   "cell_type": "markdown",
   "metadata": {},
   "source": [
    "<h3>Operador in</h3>\n",
    "\n",
    "<p>Utilizado para verificar se algum elemento específico pertence à lista"
   ]
  },
  {
   "cell_type": "code",
   "execution_count": 20,
   "metadata": {},
   "outputs": [
    {
     "name": "stdout",
     "output_type": "stream",
     "text": [
      "False\n",
      "True\n"
     ]
    }
   ],
   "source": [
    "lista_teste_op = [100, 2, -5, 3.4]\n",
    "print(10 in lista_teste_op)\n",
    "print(100 in lista_teste_op)"
   ]
  },
  {
   "cell_type": "markdown",
   "metadata": {},
   "source": [
    "<h3>Funções built-in para Listas</h3>"
   ]
  },
  {
   "cell_type": "code",
   "execution_count": 1,
   "metadata": {},
   "outputs": [
    {
     "name": "stdout",
     "output_type": "stream",
     "text": [
      "Tamanho:  4\n",
      "Máximo:  50\n",
      "Mínimo:  -3.4\n"
     ]
    }
   ],
   "source": [
    "lista_de_numeros = [10, 20, 50, -3.4]\n",
    "\n",
    "#Função len() retorna o tamanho da lista\n",
    "print(\"Tamanho: \", len(lista_de_numeros))\n",
    "\n",
    "#Função max() retorna o maior valor da lista\n",
    "print(\"Máximo: \",max(lista_de_numeros))\n",
    "\n",
    "#Função min() retorna o menor valor da lista\n",
    "print(\"Mínimo: \",min(lista_de_numeros))"
   ]
  },
  {
   "cell_type": "code",
   "execution_count": 4,
   "metadata": {},
   "outputs": [
    {
     "name": "stdout",
     "output_type": "stream",
     "text": [
      "['Analista de Dados', 'Engenheiro de Dados', 'Cientista de Dados', 'Engenheiro de IA']\n",
      "3\n"
     ]
    }
   ],
   "source": [
    "lista_formacoes_dsa = ['Analista de Dados', 'Engenheiro de Dados', 'Cientista de Dados']\n",
    "\n",
    "#Função .append() adiciona um novo elemento à lista\n",
    "lista_formacoes_dsa.append('Engenheiro de IA')\n",
    "print(lista_formacoes_dsa)\n",
    "\n",
    "#Função .count() conta quantos valores passados como parâmetro tem numa lista\n",
    "lista_formacoes_dsa.append('Engenheiro de IA')\n",
    "lista_formacoes_dsa.append('Engenheiro de IA')\n",
    "print(lista_formacoes_dsa.count('Engenheiro de IA'))"
   ]
  },
  {
   "cell_type": "code",
   "execution_count": 5,
   "metadata": {},
   "outputs": [
    {
     "name": "stdout",
     "output_type": "stream",
     "text": [
      "[]\n",
      "<class 'list'>\n",
      "[10]\n",
      "[10, 50]\n"
     ]
    }
   ],
   "source": [
    "lista_vazia = []\n",
    "\n",
    "print(lista_vazia)\n",
    "print(type(lista_vazia))\n",
    "\n",
    "lista_vazia.append(10)\n",
    "print(lista_vazia)\n",
    "\n",
    "lista_vazia.append(50)\n",
    "print(lista_vazia)"
   ]
  },
  {
   "cell_type": "code",
   "execution_count": 7,
   "metadata": {},
   "outputs": [
    {
     "name": "stdout",
     "output_type": "stream",
     "text": [
      "[]\n",
      "[1, 2, 5, 10]\n"
     ]
    }
   ],
   "source": [
    "old_list = [1, 2, 5, 10]\n",
    "new_list = []\n",
    "\n",
    "print(new_list)\n",
    "\n",
    "for item in old_list:\n",
    "    new_list.append(item)\n",
    "\n",
    "print(new_list)"
   ]
  },
  {
   "cell_type": "code",
   "execution_count": 9,
   "metadata": {},
   "outputs": [
    {
     "name": "stdout",
     "output_type": "stream",
     "text": [
      "['Recife', 'Manaus', 'Salvador', 'Palmas', 'Fortaleza']\n",
      "2\n"
     ]
    }
   ],
   "source": [
    "cidades = ['Recife', 'Manaus', 'Salvador']\n",
    "\n",
    "#Função extend() serve para passar mais elementos para dentro de uma lista (como se fosse um append de vários itens ao mesmo tempo)\n",
    "cidades.extend(['Palmas','Fortaleza'])\n",
    "\n",
    "print(cidades)\n",
    "\n",
    "#Função index() retorna o index de um item na lista\n",
    "print(cidades.index('Salvador'))"
   ]
  },
  {
   "cell_type": "code",
   "execution_count": 10,
   "metadata": {},
   "outputs": [
    {
     "ename": "ValueError",
     "evalue": "'Rio de Janeiro' is not in list",
     "output_type": "error",
     "traceback": [
      "\u001b[1;31m---------------------------------------------------------------------------\u001b[0m",
      "\u001b[1;31mValueError\u001b[0m                                Traceback (most recent call last)",
      "Cell \u001b[1;32mIn[10], line 1\u001b[0m\n\u001b[1;32m----> 1\u001b[0m \u001b[43mcidades\u001b[49m\u001b[38;5;241;43m.\u001b[39;49m\u001b[43mindex\u001b[49m\u001b[43m(\u001b[49m\u001b[38;5;124;43m'\u001b[39;49m\u001b[38;5;124;43mRio de Janeiro\u001b[39;49m\u001b[38;5;124;43m'\u001b[39;49m\u001b[43m)\u001b[49m\n",
      "\u001b[1;31mValueError\u001b[0m: 'Rio de Janeiro' is not in list"
     ]
    }
   ],
   "source": [
    "cidades.index('Rio de Janeiro')"
   ]
  },
  {
   "cell_type": "code",
   "execution_count": 18,
   "metadata": {},
   "outputs": [
    {
     "name": "stdout",
     "output_type": "stream",
     "text": [
      "['Fortaleza', 'Palmas', 110, 110, 'Salvador', 'Manaus', 'Recife']\n",
      "['Fortaleza', 'Palmas', 110, 'Salvador', 'Manaus', 'Recife']\n",
      "['Recife', 'Manaus', 'Salvador', 110, 'Palmas', 'Fortaleza']\n"
     ]
    }
   ],
   "source": [
    "#Função .insert() insere dentro da lista no index especificado o item fornecido\n",
    "cidades.insert(2, 110)\n",
    "\n",
    "print(cidades)\n",
    "\n",
    "#Função .remove() remove um elemento da lista\n",
    "cidades.remove(110)\n",
    "\n",
    "print(cidades)\n",
    "\n",
    "#Função .reverse() inverte a ordem da lista\n",
    "cidades.reverse()\n",
    "print(cidades)"
   ]
  },
  {
   "cell_type": "code",
   "execution_count": 20,
   "metadata": {},
   "outputs": [
    {
     "name": "stdout",
     "output_type": "stream",
     "text": [
      "[1, 2, 3, 4]\n"
     ]
    }
   ],
   "source": [
    "lista_ord = [3, 4, 2, 1]\n",
    "#Função .sort() ordena uma lista\n",
    "\n",
    "lista_ord.sort()\n",
    "print(lista_ord)"
   ]
  },
  {
   "cell_type": "code",
   "execution_count": null,
   "metadata": {},
   "outputs": [],
   "source": []
  }
 ],
 "metadata": {
  "kernelspec": {
   "display_name": "kernel-introducao-python",
   "language": "python",
   "name": "python3"
  },
  "language_info": {
   "codemirror_mode": {
    "name": "ipython",
    "version": 3
   },
   "file_extension": ".py",
   "mimetype": "text/x-python",
   "name": "python",
   "nbconvert_exporter": "python",
   "pygments_lexer": "ipython3",
   "version": "3.11.4"
  }
 },
 "nbformat": 4,
 "nbformat_minor": 2
}
